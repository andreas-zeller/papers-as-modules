{
 "cells": [
  {
   "cell_type": "markdown",
   "metadata": {
    "button": false,
    "deletable": true,
    "new_sheet": false,
    "run_control": {
     "read_only": false
    }
   },
   "source": [
    "# An Empirical Study on the Reliability of UNIX Utilities\n",
    "Barton P. Miller, Louis Fredriksen, Bryan So\n",
    "\n",
    "This demonstrates how the 1989 paper [\"An empirical study of the reliability of UNIX utilities\"](https://dl.acm.org/citation.cfm?id=96279) could look like if it had been written as a notebook.  Its main purpose is to be \"imported\" into the essay [\"Software Papers as Software Modules\"](papers-as-modules.ipynb)."
   ]
  },
  {
   "cell_type": "code",
   "execution_count": 4,
   "metadata": {
    "button": false,
    "collapsed": true,
    "deletable": true,
    "new_sheet": false,
    "run_control": {
     "read_only": false
    }
   },
   "outputs": [],
   "source": [
    "import random"
   ]
  },
  {
   "cell_type": "markdown",
   "metadata": {
    "button": false,
    "deletable": true,
    "new_sheet": false,
    "run_control": {
     "read_only": false
    }
   },
   "source": [
    "The key idea of the above paper is to have a _fuzzing function_ that produces a random string, which in turn would be fed into various UNIX utilities."
   ]
  },
  {
   "cell_type": "code",
   "execution_count": 5,
   "metadata": {
    "button": false,
    "collapsed": true,
    "deletable": true,
    "new_sheet": false,
    "run_control": {
     "read_only": false
    }
   },
   "outputs": [],
   "source": [
    "def fuzzer(max_length=100, char_start=32, char_range=32):\n",
    "    \"\"\"A string of up to `max_length` characters \n",
    "       in the range [`char_start`, `char_start` + `char_range`]\"\"\"\n",
    "    string_length = random.randrange(0, max_length)\n",
    "    out = \"\"\n",
    "    for i in range(0, string_length):\n",
    "        out += chr(random.randrange(char_start, char_start + char_range))\n",
    "    return out"
   ]
  },
  {
   "cell_type": "markdown",
   "metadata": {
    "button": false,
    "deletable": true,
    "new_sheet": false,
    "run_control": {
     "read_only": false
    }
   },
   "source": [
    "The actual evaluation in the above paper takes these strings and feeds them into UNIX utilities (of which about one third failed in 1989).  Here, we restrict ourselves to a simple descriptive statistics."
   ]
  },
  {
   "cell_type": "code",
   "execution_count": 6,
   "metadata": {
    "button": false,
    "collapsed": true,
    "deletable": true,
    "new_sheet": false,
    "run_control": {
     "read_only": false
    }
   },
   "outputs": [],
   "source": [
    "def evaluation(fuzzer=fuzzer, tries=100):\n",
    "    \"\"\"Evaluate `fuzzer()` function `tries` times;\n",
    "       report average and max length\"\"\"\n",
    "\n",
    "    sum_length = 0\n",
    "    max_length = 0\n",
    "    for i in range(tries):\n",
    "        s = fuzzer()\n",
    "        sum_length += len(s)\n",
    "        max_length = max(max_length, len(s))\n",
    "\n",
    "    avg_length = sum_length / tries\n",
    "    result = {\n",
    "        \"average_length\": avg_length,\n",
    "        \"max_length\": max_length\n",
    "    }\n",
    "    return result"
   ]
  },
  {
   "cell_type": "markdown",
   "metadata": {
    "button": false,
    "collapsed": true,
    "deletable": true,
    "new_sheet": false,
    "run_control": {
     "read_only": false
    }
   },
   "source": [
    "This concludes the demo.  To learn more about the work, read the [actual paper](https://dl.acm.org/citation.cfm?id=96279)."
   ]
  }
 ],
 "metadata": {
  "kernelspec": {
   "display_name": "Python 3",
   "language": "python",
   "name": "python3"
  },
  "language_info": {
   "codemirror_mode": {
    "name": "ipython",
    "version": 3
   },
   "file_extension": ".py",
   "mimetype": "text/x-python",
   "name": "python",
   "nbconvert_exporter": "python",
   "pygments_lexer": "ipython3",
   "version": "3.5.0"
  }
 },
 "nbformat": 4,
 "nbformat_minor": 0
}
