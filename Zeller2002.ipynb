{
 "cells": [
  {
   "cell_type": "markdown",
   "metadata": {
    "button": false,
    "deletable": true,
    "new_sheet": false,
    "run_control": {
     "read_only": false
    }
   },
   "source": [
    "# Simplifying and Isolating Failure-Inducing Input\n",
    "Andreas Zeller, Ralf Hildebrandt"
   ]
  },
  {
   "cell_type": "markdown",
   "metadata": {
    "run_control": {}
   },
   "source": [
    "This demonstrates how the 2002 paper [\"Simplifying and Isolating Failure-Inducing Input\"](https://dl.acm.org/citation.cfm?id=506206) could look like if it had been written as a notebook."
   ]
  },
  {
   "cell_type": "markdown",
   "metadata": {
    "run_control": {}
   },
   "source": [
    "The key idea of the above paper is to determine a minimal set of circumstances that causes a program to fail (simplifying) or to determine a minimal difference between a passing set and a failing set (isolating).  Here's the core algorithm for simplification, applied on an input string and taking a _test_ function that checks whether the input fails (returning `\"FAIL\"`) or passes (returning `\"PASS\"`)."
   ]
  },
  {
   "cell_type": "code",
   "execution_count": 2,
   "metadata": {
    "collapsed": true,
    "run_control": {}
   },
   "outputs": [],
   "source": [
    "def ddmin(s, test):\n",
    "    assert test(\"\") == \"PASS\"\n",
    "    assert test(s) == \"FAIL\"\n",
    "\n",
    "    n = 2     # Initial granularity\n",
    "    while len(s) >= 2:\n",
    "        start = 0\n",
    "        subset_length = int(len(s) / n)\n",
    "        some_complement_is_failing = False\n",
    "\n",
    "        while start < len(s):\n",
    "            complement = s[:start] + s[start + subset_length:]\n",
    "\n",
    "            if test(complement) == \"FAIL\":\n",
    "                s = complement\n",
    "                n = max(n - 1, 2)\n",
    "                some_complement_is_failing = True\n",
    "                break\n",
    "                \n",
    "            start += subset_length\n",
    "\n",
    "        if not some_complement_is_failing:\n",
    "            if n == len(s):\n",
    "                break\n",
    "            n = min(n * 2, len(s))\n",
    "\n",
    "    return s"
   ]
  },
  {
   "cell_type": "code",
   "execution_count": null,
   "metadata": {
    "collapsed": true,
    "run_control": {}
   },
   "outputs": [],
   "source": []
  }
 ],
 "metadata": {
  "kernelspec": {
   "display_name": "Python 3",
   "language": "python",
   "name": "python3"
  },
  "language_info": {
   "codemirror_mode": {
    "name": "ipython",
    "version": 3
   },
   "file_extension": ".py",
   "mimetype": "text/x-python",
   "name": "python",
   "nbconvert_exporter": "python",
   "pygments_lexer": "ipython3",
   "version": "3.5.0"
  }
 },
 "nbformat": 4,
 "nbformat_minor": 0
}
